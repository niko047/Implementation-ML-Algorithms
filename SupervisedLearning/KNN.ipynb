{
 "cells": [
  {
   "cell_type": "code",
   "execution_count": 171,
   "metadata": {
    "collapsed": true
   },
   "outputs": [],
   "source": [
    "import pandas as pd\n",
    "import numpy as np\n",
    "import matplotlib.pyplot as plt\n",
    "\n",
    "df = pd.read_csv('../Datasets/Iris.csv')"
   ]
  },
  {
   "cell_type": "code",
   "execution_count": 160,
   "outputs": [
    {
     "data": {
      "text/plain": "   Id  SepalLengthCm  SepalWidthCm  PetalLengthCm  PetalWidthCm      Species\n0   1            5.1           3.5            1.4           0.2  Iris-setosa\n1   2            4.9           3.0            1.4           0.2  Iris-setosa\n2   3            4.7           3.2            1.3           0.2  Iris-setosa\n3   4            4.6           3.1            1.5           0.2  Iris-setosa\n4   5            5.0           3.6            1.4           0.2  Iris-setosa",
      "text/html": "<div>\n<style scoped>\n    .dataframe tbody tr th:only-of-type {\n        vertical-align: middle;\n    }\n\n    .dataframe tbody tr th {\n        vertical-align: top;\n    }\n\n    .dataframe thead th {\n        text-align: right;\n    }\n</style>\n<table border=\"1\" class=\"dataframe\">\n  <thead>\n    <tr style=\"text-align: right;\">\n      <th></th>\n      <th>Id</th>\n      <th>SepalLengthCm</th>\n      <th>SepalWidthCm</th>\n      <th>PetalLengthCm</th>\n      <th>PetalWidthCm</th>\n      <th>Species</th>\n    </tr>\n  </thead>\n  <tbody>\n    <tr>\n      <th>0</th>\n      <td>1</td>\n      <td>5.1</td>\n      <td>3.5</td>\n      <td>1.4</td>\n      <td>0.2</td>\n      <td>Iris-setosa</td>\n    </tr>\n    <tr>\n      <th>1</th>\n      <td>2</td>\n      <td>4.9</td>\n      <td>3.0</td>\n      <td>1.4</td>\n      <td>0.2</td>\n      <td>Iris-setosa</td>\n    </tr>\n    <tr>\n      <th>2</th>\n      <td>3</td>\n      <td>4.7</td>\n      <td>3.2</td>\n      <td>1.3</td>\n      <td>0.2</td>\n      <td>Iris-setosa</td>\n    </tr>\n    <tr>\n      <th>3</th>\n      <td>4</td>\n      <td>4.6</td>\n      <td>3.1</td>\n      <td>1.5</td>\n      <td>0.2</td>\n      <td>Iris-setosa</td>\n    </tr>\n    <tr>\n      <th>4</th>\n      <td>5</td>\n      <td>5.0</td>\n      <td>3.6</td>\n      <td>1.4</td>\n      <td>0.2</td>\n      <td>Iris-setosa</td>\n    </tr>\n  </tbody>\n</table>\n</div>"
     },
     "execution_count": 160,
     "metadata": {},
     "output_type": "execute_result"
    }
   ],
   "source": [
    "df.head()"
   ],
   "metadata": {
    "collapsed": false,
    "pycharm": {
     "name": "#%%\n"
    }
   }
  },
  {
   "cell_type": "code",
   "execution_count": 161,
   "outputs": [
    {
     "name": "stdout",
     "output_type": "stream",
     "text": [
      "<class 'pandas.core.frame.DataFrame'>\n",
      "RangeIndex: 150 entries, 0 to 149\n",
      "Data columns (total 6 columns):\n",
      " #   Column         Non-Null Count  Dtype  \n",
      "---  ------         --------------  -----  \n",
      " 0   Id             150 non-null    int64  \n",
      " 1   SepalLengthCm  150 non-null    float64\n",
      " 2   SepalWidthCm   150 non-null    float64\n",
      " 3   PetalLengthCm  150 non-null    float64\n",
      " 4   PetalWidthCm   150 non-null    float64\n",
      " 5   Species        150 non-null    object \n",
      "dtypes: float64(4), int64(1), object(1)\n",
      "memory usage: 7.2+ KB\n"
     ]
    }
   ],
   "source": [
    "df.info()"
   ],
   "metadata": {
    "collapsed": false,
    "pycharm": {
     "name": "#%%\n"
    }
   }
  },
  {
   "cell_type": "code",
   "execution_count": 162,
   "outputs": [
    {
     "data": {
      "text/plain": "array(['Iris-setosa', 'Iris-versicolor', 'Iris-virginica'], dtype=object)"
     },
     "execution_count": 162,
     "metadata": {},
     "output_type": "execute_result"
    }
   ],
   "source": [
    "df['Species'].unique()"
   ],
   "metadata": {
    "collapsed": false,
    "pycharm": {
     "name": "#%%\n"
    }
   }
  },
  {
   "cell_type": "code",
   "execution_count": 163,
   "outputs": [],
   "source": [
    "df.drop('Id', axis=1, inplace=True)"
   ],
   "metadata": {
    "collapsed": false,
    "pycharm": {
     "name": "#%%\n"
    }
   }
  },
  {
   "cell_type": "code",
   "execution_count": 164,
   "outputs": [],
   "source": [
    "df.loc[df['Species']=='Iris-setosa', 'Species'] = 0\n",
    "df.loc[df['Species']=='Iris-versicolor', 'Species'] = 1\n",
    "df.loc[df['Species']=='Iris-virginica', 'Species'] = 2"
   ],
   "metadata": {
    "collapsed": false,
    "pycharm": {
     "name": "#%%\n"
    }
   }
  },
  {
   "cell_type": "code",
   "execution_count": 165,
   "outputs": [
    {
     "data": {
      "text/plain": "   SepalLengthCm  SepalWidthCm  PetalLengthCm  PetalWidthCm Species\n0            5.1           3.5            1.4           0.2       0\n1            4.9           3.0            1.4           0.2       0\n2            4.7           3.2            1.3           0.2       0\n3            4.6           3.1            1.5           0.2       0\n4            5.0           3.6            1.4           0.2       0",
      "text/html": "<div>\n<style scoped>\n    .dataframe tbody tr th:only-of-type {\n        vertical-align: middle;\n    }\n\n    .dataframe tbody tr th {\n        vertical-align: top;\n    }\n\n    .dataframe thead th {\n        text-align: right;\n    }\n</style>\n<table border=\"1\" class=\"dataframe\">\n  <thead>\n    <tr style=\"text-align: right;\">\n      <th></th>\n      <th>SepalLengthCm</th>\n      <th>SepalWidthCm</th>\n      <th>PetalLengthCm</th>\n      <th>PetalWidthCm</th>\n      <th>Species</th>\n    </tr>\n  </thead>\n  <tbody>\n    <tr>\n      <th>0</th>\n      <td>5.1</td>\n      <td>3.5</td>\n      <td>1.4</td>\n      <td>0.2</td>\n      <td>0</td>\n    </tr>\n    <tr>\n      <th>1</th>\n      <td>4.9</td>\n      <td>3.0</td>\n      <td>1.4</td>\n      <td>0.2</td>\n      <td>0</td>\n    </tr>\n    <tr>\n      <th>2</th>\n      <td>4.7</td>\n      <td>3.2</td>\n      <td>1.3</td>\n      <td>0.2</td>\n      <td>0</td>\n    </tr>\n    <tr>\n      <th>3</th>\n      <td>4.6</td>\n      <td>3.1</td>\n      <td>1.5</td>\n      <td>0.2</td>\n      <td>0</td>\n    </tr>\n    <tr>\n      <th>4</th>\n      <td>5.0</td>\n      <td>3.6</td>\n      <td>1.4</td>\n      <td>0.2</td>\n      <td>0</td>\n    </tr>\n  </tbody>\n</table>\n</div>"
     },
     "execution_count": 165,
     "metadata": {},
     "output_type": "execute_result"
    }
   ],
   "source": [
    "df.head()"
   ],
   "metadata": {
    "collapsed": false,
    "pycharm": {
     "name": "#%%\n"
    }
   }
  },
  {
   "cell_type": "code",
   "execution_count": 166,
   "outputs": [
    {
     "data": {
      "text/plain": "<AxesSubplot:>"
     },
     "execution_count": 166,
     "metadata": {},
     "output_type": "execute_result"
    },
    {
     "data": {
      "text/plain": "<Figure size 432x288 with 1 Axes>",
      "image/png": "[encoded data removed]"
     },
     "metadata": {
      "needs_background": "light"
     },
     "output_type": "display_data"
    }
   ],
   "source": [
    "df['Species'].hist()"
   ],
   "metadata": {
    "collapsed": false,
    "pycharm": {
     "name": "#%%\n"
    }
   }
  },
  {
   "cell_type": "code",
   "execution_count": 167,
   "outputs": [],
   "source": [
    "X = df.drop('Species', axis=1).values\n",
    "y = df['Species'].values"
   ],
   "metadata": {
    "collapsed": false,
    "pycharm": {
     "name": "#%%\n"
    }
   }
  },
  {
   "cell_type": "code",
   "execution_count": 182,
   "outputs": [],
   "source": [
    "class KNearestNeighbors:\n",
    "\n",
    "    def __init__(self, K: int):\n",
    "        self.K = K\n",
    "\n",
    "    def fit(self, X, y):\n",
    "        self.X = X\n",
    "        self.y = y\n",
    "\n",
    "    def infer(self, x):\n",
    "        # Check that the input data matches the training data\n",
    "        try:\n",
    "            assert len(x) == self.X.shape[-1]\n",
    "        except AssertionError:\n",
    "            print(x.shape, self.X.shape[-1])\n",
    "            print('Shapes of inferred input and training data do not match')\n",
    "            return\n",
    "        \n",
    "        # Calculate a distance between the new datapoint and all the others\n",
    "        \n",
    "        # In this case I am going to choose the sum of the squared difference components\n",
    "        d = np.sum(np.power(self.X - x, 2), axis=1)\n",
    "        dy = np.concatenate((d.reshape(-1, 1), self.y.reshape(-1, 1)), axis=1)\n",
    "        dy = dy[dy[:, 0].argsort()]\n",
    "\n",
    "        K_nearest = dy[:, -1][:self.K]\n",
    "        unique_classes = np.unique(self.y)\n",
    "        probs = {uc : len(K_nearest[K_nearest==uc])/self.K for uc in unique_classes}\n",
    "\n",
    "        return max(probs, key=probs.get)\n"
   ],
   "metadata": {
    "collapsed": false,
    "pycharm": {
     "name": "#%%\n"
    }
   }
  },
  {
   "cell_type": "code",
   "execution_count": 183,
   "outputs": [
    {
     "name": "stdout",
     "output_type": "stream",
     "text": [
      "(5,) 2\n",
      "Shapes of inferred input and training data do not match\n",
      "(5,) 2\n",
      "Shapes of inferred input and training data do not match\n",
      "(5,) 2\n",
      "Shapes of inferred input and training data do not match\n",
      "(5,) 2\n",
      "Shapes of inferred input and training data do not match\n",
      "(5,) 2\n",
      "Shapes of inferred input and training data do not match\n",
      "(5,) 2\n",
      "Shapes of inferred input and training data do not match\n",
      "(5,) 2\n",
      "Shapes of inferred input and training data do not match\n",
      "(5,) 2\n",
      "Shapes of inferred input and training data do not match\n",
      "(5,) 2\n",
      "Shapes of inferred input and training data do not match\n",
      "(5,) 2\n",
      "Shapes of inferred input and training data do not match\n",
      "(5,) 2\n",
      "Shapes of inferred input and training data do not match\n",
      "(5,) 2\n",
      "Shapes of inferred input and training data do not match\n",
      "(5,) 2\n",
      "Shapes of inferred input and training data do not match\n",
      "(5,) 2\n",
      "Shapes of inferred input and training data do not match\n",
      "(5,) 2\n",
      "Shapes of inferred input and training data do not match\n",
      "(5,) 2\n",
      "Shapes of inferred input and training data do not match\n",
      "(5,) 2\n",
      "Shapes of inferred input and training data do not match\n",
      "(5,) 2\n",
      "Shapes of inferred input and training data do not match\n",
      "(5,) 2\n",
      "Shapes of inferred input and training data do not match\n",
      "(5,) 2\n",
      "Shapes of inferred input and training data do not match\n",
      "(5,) 2\n",
      "Shapes of inferred input and training data do not match\n",
      "(5,) 2\n",
      "Shapes of inferred input and training data do not match\n",
      "(5,) 2\n",
      "Shapes of inferred input and training data do not match\n",
      "(5,) 2\n",
      "Shapes of inferred input and training data do not match\n",
      "(5,) 2\n",
      "Shapes of inferred input and training data do not match\n",
      "(5,) 2\n",
      "Shapes of inferred input and training data do not match\n",
      "(5,) 2\n",
      "Shapes of inferred input and training data do not match\n",
      "(5,) 2\n",
      "Shapes of inferred input and training data do not match\n",
      "(5,) 2\n",
      "Shapes of inferred input and training data do not match\n",
      "(5,) 2\n",
      "Shapes of inferred input and training data do not match\n"
     ]
    }
   ],
   "source": [
    "wrong = 0\n",
    "right = 0\n",
    "\n",
    "k = KNearestNeighbors(30)\n",
    "k.fit(X,y)\n",
    "for i in range(30):\n",
    "    r = np.random.randint(0, 150)\n",
    "    x = df.iloc[r,:].values[:-1]\n",
    "    true = df.iloc[r,:].values[-1]\n",
    "    res = k.infer(x)\n",
    "    if res == true:\n",
    "        right += 1\n",
    "    else:\n",
    "        wrong += 1"
   ],
   "metadata": {
    "collapsed": false,
    "pycharm": {
     "name": "#%%\n"
    }
   }
  },
  {
   "cell_type": "code",
   "execution_count": 184,
   "outputs": [
    {
     "name": "stdout",
     "output_type": "stream",
     "text": [
      "Right: 0 and Wrong: 30\n"
     ]
    }
   ],
   "source": [
    "print(f'Right: {right} and Wrong: {wrong}')"
   ],
   "metadata": {
    "collapsed": false,
    "pycharm": {
     "name": "#%%\n"
    }
   }
  },
  {
   "cell_type": "code",
   "execution_count": null,
   "outputs": [],
   "source": [],
   "metadata": {
    "collapsed": false,
    "pycharm": {
     "name": "#%%\n"
    }
   }
  },
  {
   "cell_type": "code",
   "execution_count": 184,
   "outputs": [],
   "source": [],
   "metadata": {
    "collapsed": false,
    "pycharm": {
     "name": "#%%\n"
    }
   }
  },
  {
   "cell_type": "code",
   "execution_count": 185,
   "outputs": [],
   "source": [
    "cov = np.array([\n",
    "    [1,0],\n",
    "    [0,1]\n",
    "])\n",
    "\n",
    "# Gaussian distribution n1\n",
    "sample_1 = np.random.multivariate_normal(mean=np.array([1,2]), cov=cov, size=300)\n",
    "y_1 = np.zeros(shape=len(sample_1[:, 0]))"
   ],
   "metadata": {
    "collapsed": false,
    "pycharm": {
     "name": "#%%\n"
    }
   }
  },
  {
   "cell_type": "code",
   "execution_count": 186,
   "outputs": [],
   "source": [
    "sample_2 = np.random.multivariate_normal(mean=np.array([4,3]), cov=cov, size=300)\n",
    "y_2 = np.ones(shape=len(sample_2[:,0]))\n"
   ],
   "metadata": {
    "collapsed": false,
    "pycharm": {
     "name": "#%%\n"
    }
   }
  },
  {
   "cell_type": "code",
   "execution_count": 187,
   "outputs": [],
   "source": [
    "X = np.vstack((sample_1, sample_2))\n",
    "y = np.hstack((y_1, y_2)).reshape(-1, 1)"
   ],
   "metadata": {
    "collapsed": false,
    "pycharm": {
     "name": "#%%\n"
    }
   }
  },
  {
   "cell_type": "code",
   "execution_count": 188,
   "outputs": [],
   "source": [
    "X_y=np.concatenate((X,y), axis=1)"
   ],
   "metadata": {
    "collapsed": false,
    "pycharm": {
     "name": "#%%\n"
    }
   }
  },
  {
   "cell_type": "code",
   "execution_count": 189,
   "outputs": [],
   "source": [
    "np.random.shuffle(X_y)"
   ],
   "metadata": {
    "collapsed": false,
    "pycharm": {
     "name": "#%%\n"
    }
   }
  },
  {
   "cell_type": "code",
   "execution_count": 190,
   "outputs": [],
   "source": [
    "k = KNearestNeighbors(K=30)\n",
    "k.fit(X_y[:, :-1], X_y[:, -1])"
   ],
   "metadata": {
    "collapsed": false,
    "pycharm": {
     "name": "#%%\n"
    }
   }
  },
  {
   "cell_type": "code",
   "execution_count": 191,
   "outputs": [
    {
     "data": {
      "text/plain": "array([[1.23693243, 2.10721198, 0.        ],\n       [0.19785488, 2.40260671, 0.        ],\n       [3.307553  , 3.09596827, 1.        ],\n       ...,\n       [5.86305846, 1.63488055, 1.        ],\n       [0.89271631, 2.39737496, 0.        ],\n       [1.44242397, 2.30193025, 0.        ]])"
     },
     "execution_count": 191,
     "metadata": {},
     "output_type": "execute_result"
    }
   ],
   "source": [
    "X_y"
   ],
   "metadata": {
    "collapsed": false,
    "pycharm": {
     "name": "#%%\n"
    }
   }
  },
  {
   "cell_type": "code",
   "execution_count": 192,
   "outputs": [],
   "source": [
    "#On top of it plot the decision boundary created by the algorithm\n",
    "sample_v = np.random.multivariate_normal(mean=np.array([3,3]), cov=cov, size=1500)\n",
    "class_v = np.zeros(len(sample_v[:,0]))\n",
    "for i in range(len(sample_v[:, 0])):\n",
    "    class_v[i] = k.infer(sample_v[i, :])"
   ],
   "metadata": {
    "collapsed": false,
    "pycharm": {
     "name": "#%%\n"
    }
   }
  },
  {
   "cell_type": "code",
   "execution_count": 193,
   "outputs": [
    {
     "data": {
      "text/plain": "<matplotlib.collections.PathCollection at 0x13685c2b0>"
     },
     "execution_count": 193,
     "metadata": {},
     "output_type": "execute_result"
    },
    {
     "data": {
      "text/plain": "<Figure size 432x288 with 1 Axes>",
      "image/png": "[encoded data removed]"
     },
     "metadata": {
      "needs_background": "light"
     },
     "output_type": "display_data"
    }
   ],
   "source": [
    "plt.scatter(x= sample_v[:, 0], y= sample_v[:, 1], c=class_v, cmap='magma')\n",
    "\n"
   ],
   "metadata": {
    "collapsed": false,
    "pycharm": {
     "name": "#%%\n"
    }
   }
  }
 ],
 "metadata": {
  "kernelspec": {
   "display_name": "Python 3",
   "language": "python",
   "name": "python3"
  },
  "language_info": {
   "codemirror_mode": {
    "name": "ipython",
    "version": 2
   },
   "file_extension": ".py",
   "mimetype": "text/x-python",
   "name": "python",
   "nbconvert_exporter": "python",
   "pygments_lexer": "ipython2",
   "version": "2.7.6"
  }
 },
 "nbformat": 4,
 "nbformat_minor": 0
}